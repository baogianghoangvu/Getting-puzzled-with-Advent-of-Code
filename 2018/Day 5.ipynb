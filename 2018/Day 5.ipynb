{
 "cells": [
  {
   "cell_type": "markdown",
   "metadata": {},
   "source": [
    "https://adventofcode.com/2018/day/5"
   ]
  },
  {
   "cell_type": "code",
   "execution_count": 1,
   "metadata": {
    "ExecuteTime": {
     "end_time": "2018-12-16T10:03:10.291862Z",
     "start_time": "2018-12-16T10:03:10.153233Z"
    }
   },
   "outputs": [],
   "source": [
    "import numpy as np"
   ]
  },
  {
   "cell_type": "code",
   "execution_count": 2,
   "metadata": {
    "ExecuteTime": {
     "end_time": "2018-12-16T10:03:10.298843Z",
     "start_time": "2018-12-16T10:03:10.293857Z"
    }
   },
   "outputs": [],
   "source": [
    "with open(\"day5_input.txt\") as file:\n",
    "    puzzle_input = file.read().splitlines()[0]"
   ]
  },
  {
   "cell_type": "code",
   "execution_count": 3,
   "metadata": {
    "ExecuteTime": {
     "end_time": "2018-12-16T10:03:10.306821Z",
     "start_time": "2018-12-16T10:03:10.301835Z"
    }
   },
   "outputs": [],
   "source": [
    "small_puzzle_input = \"dabAcCaCBAcCcaDA\""
   ]
  },
  {
   "cell_type": "markdown",
   "metadata": {},
   "source": [
    "## Part 1"
   ]
  },
  {
   "cell_type": "markdown",
   "metadata": {},
   "source": [
    "### Vector Method"
   ]
  },
  {
   "cell_type": "code",
   "execution_count": 4,
   "metadata": {
    "ExecuteTime": {
     "end_time": "2018-12-16T10:03:10.316795Z",
     "start_time": "2018-12-16T10:03:10.309813Z"
    }
   },
   "outputs": [],
   "source": [
    "def poly_once(number_vector):\n",
    "    _32_mask = np.abs(np.diff(a=number_vector, n=1)) != 32\n",
    "    _double_32_mask = np.append(\n",
    "        False, (_32_mask[:-1] == False) * (_32_mask[1:] == False)\n",
    "    )\n",
    "    _32_mask[_double_32_mask] = True\n",
    "\n",
    "    mask_1st = np.append(_32_mask, True)\n",
    "    mask_2nd = np.append(True, _32_mask)\n",
    "    mask = mask_1st * mask_2nd\n",
    "\n",
    "    return number_vector[mask]\n",
    "\n",
    "\n",
    "def poly_all(number_vector):\n",
    "    new_number_vector = poly_once(number_vector)\n",
    "    if len(number_vector) == len(new_number_vector):\n",
    "        next_number_vector = new_number_vector\n",
    "    else:\n",
    "        next_number_vector = poly_all(new_number_vector)\n",
    "    return next_number_vector\n",
    "\n",
    "\n",
    "def vector_method(p):\n",
    "    number_vector = np.array([ord(letter) for letter in p])\n",
    "    return \"\".join([chr(i) for i in poly_all(number_vector)])"
   ]
  },
  {
   "cell_type": "code",
   "execution_count": 5,
   "metadata": {
    "ExecuteTime": {
     "end_time": "2018-12-16T10:03:10.463444Z",
     "start_time": "2018-12-16T10:03:10.318795Z"
    }
   },
   "outputs": [
    {
     "data": {
      "text/plain": [
       "9562"
      ]
     },
     "execution_count": 5,
     "metadata": {},
     "output_type": "execute_result"
    }
   ],
   "source": [
    "len(vector_method(puzzle_input))"
   ]
  },
  {
   "cell_type": "code",
   "execution_count": 6,
   "metadata": {
    "ExecuteTime": {
     "end_time": "2018-12-16T10:03:10.470383Z",
     "start_time": "2018-12-16T10:03:10.465399Z"
    }
   },
   "outputs": [],
   "source": [
    "from string import ascii_lowercase\n",
    "\n",
    "\n",
    "def string_method(string):\n",
    "    new_string = string\n",
    "    for letter in ascii_lowercase:\n",
    "        new_string = new_string.replace(letter + letter.upper(), \"\")\n",
    "        new_string = new_string.replace(letter.upper() + letter, \"\")\n",
    "    if len(new_string) != len(string):\n",
    "        new_string = string_method(new_string)\n",
    "    else:\n",
    "        pass\n",
    "    return new_string"
   ]
  },
  {
   "cell_type": "code",
   "execution_count": 7,
   "metadata": {
    "ExecuteTime": {
     "end_time": "2018-12-16T10:03:10.728698Z",
     "start_time": "2018-12-16T10:03:10.472380Z"
    },
    "scrolled": true
   },
   "outputs": [
    {
     "data": {
      "text/plain": [
       "9562"
      ]
     },
     "execution_count": 7,
     "metadata": {},
     "output_type": "execute_result"
    }
   ],
   "source": [
    "len(string_method(puzzle_input))"
   ]
  },
  {
   "cell_type": "markdown",
   "metadata": {},
   "source": [
    "## Part 2"
   ]
  },
  {
   "cell_type": "code",
   "execution_count": 8,
   "metadata": {
    "ExecuteTime": {
     "end_time": "2018-12-16T10:03:16.451343Z",
     "start_time": "2018-12-16T10:03:10.729711Z"
    }
   },
   "outputs": [
    {
     "name": "stdout",
     "output_type": "stream",
     "text": [
      "a 48070 50000 9204\n",
      "b 48066 50000 9196\n",
      "c 48078 50000 9162\n",
      "d 48038 50000 9152\n",
      "e 48100 50000 9192\n",
      "f 48122 50000 9202\n",
      "g 48100 50000 9200\n",
      "h 48096 50000 9246\n",
      "i 48126 50000 9190\n",
      "j 48068 50000 9162\n",
      "k 48062 50000 9198\n",
      "l 48220 50000 9204\n",
      "m 47972 50000 9198\n",
      "n 48036 50000 4934\n",
      "o 47996 50000 9194\n",
      "p 48096 50000 9186\n",
      "q 48078 50000 9180\n",
      "r 48070 50000 9146\n",
      "s 48090 50000 9194\n",
      "t 48036 50000 9112\n",
      "u 48112 50000 9192\n",
      "v 48098 50000 9220\n",
      "w 48068 50000 9180\n",
      "x 48110 50000 9154\n",
      "y 48068 50000 9110\n",
      "z 48024 50000 9172\n"
     ]
    }
   ],
   "source": [
    "polymer_improvement = {}\n",
    "for letter in ascii_lowercase:\n",
    "    initial_input = puzzle_input\n",
    "    _input = initial_input.replace(letter, \"\").replace(letter.upper(), \"\")\n",
    "    polymer_improvement[letter] = len(string_method(_input))\n",
    "    print(letter, len(_input), len(initial_input), polymer_improvement[letter])"
   ]
  },
  {
   "cell_type": "code",
   "execution_count": 9,
   "metadata": {
    "ExecuteTime": {
     "end_time": "2018-12-16T10:03:16.458325Z",
     "start_time": "2018-12-16T10:03:16.453340Z"
    }
   },
   "outputs": [
    {
     "data": {
      "text/plain": [
       "'n'"
      ]
     },
     "execution_count": 9,
     "metadata": {},
     "output_type": "execute_result"
    }
   ],
   "source": [
    "min(polymer_improvement, key=lambda x: polymer_improvement[x])"
   ]
  },
  {
   "cell_type": "code",
   "execution_count": 10,
   "metadata": {
    "ExecuteTime": {
     "end_time": "2018-12-16T10:03:20.066928Z",
     "start_time": "2018-12-16T10:03:16.460321Z"
    }
   },
   "outputs": [
    {
     "name": "stdout",
     "output_type": "stream",
     "text": [
      "a 48070 50000 9204\n",
      "b 48066 50000 9196\n",
      "c 48078 50000 9162\n",
      "d 48038 50000 9152\n",
      "e 48100 50000 9192\n",
      "f 48122 50000 9202\n",
      "g 48100 50000 9200\n",
      "h 48096 50000 9246\n",
      "i 48126 50000 9190\n",
      "j 48068 50000 9162\n",
      "k 48062 50000 9198\n",
      "l 48220 50000 9204\n",
      "m 47972 50000 9198\n",
      "n 48036 50000 4934\n",
      "o 47996 50000 9194\n",
      "p 48096 50000 9186\n",
      "q 48078 50000 9180\n",
      "r 48070 50000 9146\n",
      "s 48090 50000 9194\n",
      "t 48036 50000 9112\n",
      "u 48112 50000 9192\n",
      "v 48098 50000 9220\n",
      "w 48068 50000 9180\n",
      "x 48110 50000 9154\n",
      "y 48068 50000 9110\n",
      "z 48024 50000 9172\n"
     ]
    }
   ],
   "source": [
    "import sys\n",
    "\n",
    "sys.setrecursionlimit(10000)\n",
    "\n",
    "polymer_improvement = {}\n",
    "for letter in ascii_lowercase:\n",
    "    initial_input = puzzle_input\n",
    "    _input = initial_input.replace(letter, \"\").replace(letter.upper(), \"\")\n",
    "    polymer_improvement[letter] = len(vector_method(_input))\n",
    "    print(letter, len(_input), len(initial_input), polymer_improvement[letter])"
   ]
  },
  {
   "cell_type": "code",
   "execution_count": 11,
   "metadata": {
    "ExecuteTime": {
     "end_time": "2018-12-16T10:03:20.075905Z",
     "start_time": "2018-12-16T10:03:20.068923Z"
    }
   },
   "outputs": [
    {
     "data": {
      "text/plain": [
       "'n'"
      ]
     },
     "execution_count": 11,
     "metadata": {},
     "output_type": "execute_result"
    }
   ],
   "source": [
    "min(polymer_improvement, key=lambda x: polymer_improvement[x])"
   ]
  }
 ],
 "metadata": {
  "kernelspec": {
   "display_name": "Python 3",
   "language": "python",
   "name": "python3"
  },
  "language_info": {
   "codemirror_mode": {
    "name": "ipython",
    "version": 3
   },
   "file_extension": ".py",
   "mimetype": "text/x-python",
   "name": "python",
   "nbconvert_exporter": "python",
   "pygments_lexer": "ipython3",
   "version": "3.7.0"
  },
  "toc": {
   "base_numbering": 1,
   "nav_menu": {},
   "number_sections": true,
   "sideBar": true,
   "skip_h1_title": false,
   "title_cell": "Table of Contents",
   "title_sidebar": "Contents",
   "toc_cell": false,
   "toc_position": {},
   "toc_section_display": true,
   "toc_window_display": false
  },
  "varInspector": {
   "cols": {
    "lenName": 16,
    "lenType": 16,
    "lenVar": 40
   },
   "kernels_config": {
    "python": {
     "delete_cmd_postfix": "",
     "delete_cmd_prefix": "del ",
     "library": "var_list.py",
     "varRefreshCmd": "print(var_dic_list())"
    },
    "r": {
     "delete_cmd_postfix": ") ",
     "delete_cmd_prefix": "rm(",
     "library": "var_list.r",
     "varRefreshCmd": "cat(var_dic_list()) "
    }
   },
   "types_to_exclude": [
    "module",
    "function",
    "builtin_function_or_method",
    "instance",
    "_Feature"
   ],
   "window_display": true
  }
 },
 "nbformat": 4,
 "nbformat_minor": 2
}
