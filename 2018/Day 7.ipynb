{
 "cells": [
  {
   "cell_type": "markdown",
   "metadata": {},
   "source": [
    "https://adventofcode.com/2018/day/7"
   ]
  },
  {
   "cell_type": "code",
   "execution_count": 1,
   "metadata": {
    "ExecuteTime": {
     "end_time": "2018-12-21T08:22:57.795391Z",
     "start_time": "2018-12-21T08:22:57.666744Z"
    }
   },
   "outputs": [],
   "source": [
    "import numpy as np"
   ]
  },
  {
   "cell_type": "code",
   "execution_count": 2,
   "metadata": {
    "ExecuteTime": {
     "end_time": "2018-12-21T08:22:57.802374Z",
     "start_time": "2018-12-21T08:22:57.797387Z"
    }
   },
   "outputs": [],
   "source": [
    "with open(\"day7_input.txt\") as file:\n",
    "    puzzle_input = file.read().splitlines()"
   ]
  },
  {
   "cell_type": "code",
   "execution_count": 3,
   "metadata": {
    "ExecuteTime": {
     "end_time": "2018-12-21T08:22:57.811348Z",
     "start_time": "2018-12-21T08:22:57.805366Z"
    }
   },
   "outputs": [],
   "source": [
    "small_puzzle_input = [\n",
    "    \"Step C must be finished before step A can begin.\",\n",
    "    \"Step C must be finished before step F can begin.\",\n",
    "    \"Step A must be finished before step B can begin.\",\n",
    "    \"Step A must be finished before step D can begin.\",\n",
    "    \"Step B must be finished before step E can begin.\",\n",
    "    \"Step D must be finished before step E can begin.\",\n",
    "    \"Step F must be finished before step E can begin.\",\n",
    "]"
   ]
  },
  {
   "cell_type": "markdown",
   "metadata": {},
   "source": [
    "## Part 1"
   ]
  },
  {
   "cell_type": "code",
   "execution_count": 4,
   "metadata": {
    "ExecuteTime": {
     "end_time": "2018-12-21T08:22:57.820325Z",
     "start_time": "2018-12-21T08:22:57.813344Z"
    }
   },
   "outputs": [],
   "source": [
    "_input = puzzle_input"
   ]
  },
  {
   "cell_type": "code",
   "execution_count": 5,
   "metadata": {
    "ExecuteTime": {
     "end_time": "2018-12-21T08:22:57.829300Z",
     "start_time": "2018-12-21T08:22:57.822319Z"
    }
   },
   "outputs": [],
   "source": [
    "pre = np.array([i[5] for i in _input])\n",
    "post = np.array([i[36] for i in _input])\n",
    "remaining_step = set(list(pre) + list(post))\n",
    "total_step = len(remaining_step)"
   ]
  },
  {
   "cell_type": "code",
   "execution_count": 6,
   "metadata": {
    "ExecuteTime": {
     "end_time": "2018-12-21T08:22:57.839285Z",
     "start_time": "2018-12-21T08:22:57.830297Z"
    }
   },
   "outputs": [],
   "source": [
    "finished_step = []\n",
    "\n",
    "while len(finished_step) < total_step:\n",
    "    unlocked = set(remaining_step) - set(post)\n",
    "\n",
    "    todo = sorted(list(unlocked))[0]\n",
    "    post = post[pre != todo]\n",
    "    pre = pre[pre != todo]\n",
    "\n",
    "    remaining_step = remaining_step - set(todo)\n",
    "    finished_step.append(todo)"
   ]
  },
  {
   "cell_type": "code",
   "execution_count": 7,
   "metadata": {
    "ExecuteTime": {
     "end_time": "2018-12-21T08:22:57.851241Z",
     "start_time": "2018-12-21T08:22:57.841268Z"
    }
   },
   "outputs": [
    {
     "name": "stdout",
     "output_type": "stream",
     "text": [
      "ACBDESULXKYZIMNTFGWJVPOHRQ\n"
     ]
    }
   ],
   "source": [
    "print(\"\".join(finished_step))"
   ]
  },
  {
   "cell_type": "markdown",
   "metadata": {},
   "source": [
    "## Part 2"
   ]
  },
  {
   "cell_type": "code",
   "execution_count": 8,
   "metadata": {
    "ExecuteTime": {
     "end_time": "2018-12-21T08:22:57.860217Z",
     "start_time": "2018-12-21T08:22:57.853236Z"
    }
   },
   "outputs": [],
   "source": [
    "def step_to_time(step, start):\n",
    "    return ord(step.upper()) - 64 + start"
   ]
  },
  {
   "cell_type": "code",
   "execution_count": 9,
   "metadata": {
    "ExecuteTime": {
     "end_time": "2018-12-21T08:22:57.870193Z",
     "start_time": "2018-12-21T08:22:57.861216Z"
    }
   },
   "outputs": [],
   "source": [
    "_input = puzzle_input\n",
    "step_time = 60\n",
    "helper_num = 5"
   ]
  },
  {
   "cell_type": "code",
   "execution_count": 10,
   "metadata": {
    "ExecuteTime": {
     "end_time": "2018-12-21T08:22:57.913077Z",
     "start_time": "2018-12-21T08:22:57.872198Z"
    }
   },
   "outputs": [
    {
     "name": "stdout",
     "output_type": "stream",
     "text": [
      "980 ACEUBDSLZXYIMKNWTFGJVPOHRQ\n"
     ]
    }
   ],
   "source": [
    "pre = np.array([i[5] for i in _input])\n",
    "post = np.array([i[36] for i in _input])\n",
    "remaining_step = list(set(list(pre) + list(post)))\n",
    "total_step = len(remaining_step)\n",
    "finished_step = []\n",
    "time = 0\n",
    "helper_time = np.zeros(helper_num)\n",
    "helper_step = np.empty(helper_num, dtype=str)\n",
    "\n",
    "while len(finished_step) < total_step:\n",
    "    helper_time[helper_step != \"\"] -= 1\n",
    "    finished = helper_step[(helper_time == 0) & (helper_step != \"\")]\n",
    "    helper_step[(helper_time == 0)] = \"\"\n",
    "    finished_step += list(finished)\n",
    "    for f in finished:\n",
    "        post = post[pre != f]\n",
    "        pre = pre[pre != f]\n",
    "    unlocked = list(set(remaining_step) - set(post))\n",
    "    unlocked = sorted(unlocked)\n",
    "\n",
    "    for i in range(helper_num):\n",
    "        if helper_step[i] == \"\" and unlocked:\n",
    "            todo = unlocked.pop(0)\n",
    "            remaining_step.remove(todo)\n",
    "            helper_step[i] = todo\n",
    "            helper_time[i] = step_to_time(todo, step_time)\n",
    "\n",
    "    time += 1\n",
    "\n",
    "print(time - 1, \"\".join(finished_step))"
   ]
  }
 ],
 "metadata": {
  "kernelspec": {
   "display_name": "Python 3",
   "language": "python",
   "name": "python3"
  },
  "language_info": {
   "codemirror_mode": {
    "name": "ipython",
    "version": 3
   },
   "file_extension": ".py",
   "mimetype": "text/x-python",
   "name": "python",
   "nbconvert_exporter": "python",
   "pygments_lexer": "ipython3",
   "version": "3.7.0"
  },
  "toc": {
   "base_numbering": 1,
   "nav_menu": {},
   "number_sections": true,
   "sideBar": true,
   "skip_h1_title": false,
   "title_cell": "Table of Contents",
   "title_sidebar": "Contents",
   "toc_cell": false,
   "toc_position": {},
   "toc_section_display": true,
   "toc_window_display": false
  },
  "varInspector": {
   "cols": {
    "lenName": 16,
    "lenType": 16,
    "lenVar": 40
   },
   "kernels_config": {
    "python": {
     "delete_cmd_postfix": "",
     "delete_cmd_prefix": "del ",
     "library": "var_list.py",
     "varRefreshCmd": "print(var_dic_list())"
    },
    "r": {
     "delete_cmd_postfix": ") ",
     "delete_cmd_prefix": "rm(",
     "library": "var_list.r",
     "varRefreshCmd": "cat(var_dic_list()) "
    }
   },
   "types_to_exclude": [
    "module",
    "function",
    "builtin_function_or_method",
    "instance",
    "_Feature"
   ],
   "window_display": true
  }
 },
 "nbformat": 4,
 "nbformat_minor": 2
}
