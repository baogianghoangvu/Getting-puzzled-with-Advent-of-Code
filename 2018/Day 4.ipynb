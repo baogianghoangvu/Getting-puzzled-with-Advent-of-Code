{
 "cells": [
  {
   "cell_type": "markdown",
   "metadata": {},
   "source": [
    "https://adventofcode.com/2018/day/4"
   ]
  },
  {
   "cell_type": "code",
   "execution_count": 1,
   "metadata": {
    "ExecuteTime": {
     "end_time": "2018-12-16T06:53:23.447898Z",
     "start_time": "2018-12-16T06:53:23.361021Z"
    }
   },
   "outputs": [],
   "source": [
    "import numpy as np"
   ]
  },
  {
   "cell_type": "code",
   "execution_count": 2,
   "metadata": {
    "ExecuteTime": {
     "end_time": "2018-12-16T06:53:23.453748Z",
     "start_time": "2018-12-16T06:53:23.449784Z"
    }
   },
   "outputs": [],
   "source": [
    "with open(\"day4_input.txt\") as file:\n",
    "    puzzle_input = file.read().splitlines()"
   ]
  },
  {
   "cell_type": "code",
   "execution_count": 3,
   "metadata": {
    "ExecuteTime": {
     "end_time": "2018-12-16T06:53:23.463721Z",
     "start_time": "2018-12-16T06:53:23.455743Z"
    }
   },
   "outputs": [],
   "source": [
    "puzzle_input = sorted(puzzle_input)"
   ]
  },
  {
   "cell_type": "code",
   "execution_count": 4,
   "metadata": {
    "ExecuteTime": {
     "end_time": "2018-12-16T06:53:23.473695Z",
     "start_time": "2018-12-16T06:53:23.465714Z"
    }
   },
   "outputs": [],
   "source": [
    "small_puzzle_input = [\n",
    "    \"[1518-11-01 00:00] Guard #10 begins shift\",\n",
    "    \"[1518-11-01 00:05] falls asleep\",\n",
    "    \"[1518-11-01 00:25] wakes up\",\n",
    "    \"[1518-11-01 00:30] falls asleep\",\n",
    "    \"[1518-11-01 00:55] wakes up\",\n",
    "    \"[1518-11-01 23:58] Guard #99 begins shift\",\n",
    "    \"[1518-11-02 00:40] falls asleep\",\n",
    "    \"[1518-11-02 00:50] wakes up\",\n",
    "    \"[1518-11-03 00:05] Guard #10 begins shift\",\n",
    "    \"[1518-11-03 00:24] falls asleep\",\n",
    "    \"[1518-11-03 00:29] wakes up\",\n",
    "    \"[1518-11-04 00:02] Guard #99 begins shift\",\n",
    "    \"[1518-11-04 00:36] falls asleep\",\n",
    "    \"[1518-11-04 00:46] wakes up\",\n",
    "    \"[1518-11-05 00:03] Guard #99 begins shift\",\n",
    "    \"[1518-11-05 00:45] falls asleep\",\n",
    "    \"[1518-11-05 00:55] wakes up\",\n",
    "]"
   ]
  },
  {
   "cell_type": "code",
   "execution_count": 5,
   "metadata": {
    "ExecuteTime": {
     "end_time": "2018-12-16T06:53:23.488653Z",
     "start_time": "2018-12-16T06:53:23.475716Z"
    },
    "scrolled": false
   },
   "outputs": [],
   "source": [
    "_input = puzzle_input\n",
    "guards = {}\n",
    "start_sleep = 0\n",
    "end_sleep = 0\n",
    "\n",
    "for i in _input:\n",
    "    if \"Guard #\" in i:\n",
    "        current_guard = int(i[26:30].strip())\n",
    "        if current_guard not in guards:\n",
    "            guards[current_guard] = {\n",
    "                \"total_sleep_time\": 0,\n",
    "                \"sleep_pattern\": np.zeros(60),\n",
    "            }\n",
    "    if \"falls asleep\" in i:\n",
    "        start_sleep = int(i[15:17])\n",
    "    if \"wakes up\" in i:\n",
    "        midnight_nap_time = np.zeros(60)\n",
    "        end_sleep = int(i[15:17])\n",
    "        midnight_nap_time[start_sleep:end_sleep] += 1\n",
    "        guards[current_guard][\"sleep_pattern\"] += midnight_nap_time\n",
    "        guards[current_guard][\"total_sleep_time\"] += end_sleep - start_sleep"
   ]
  },
  {
   "cell_type": "markdown",
   "metadata": {},
   "source": [
    "## Part 1"
   ]
  },
  {
   "cell_type": "code",
   "execution_count": 6,
   "metadata": {
    "ExecuteTime": {
     "end_time": "2018-12-16T06:53:23.497638Z",
     "start_time": "2018-12-16T06:53:23.490650Z"
    }
   },
   "outputs": [],
   "source": [
    "guard_no = max(guards, key=lambda x: guards[x][\"total_sleep_time\"])"
   ]
  },
  {
   "cell_type": "code",
   "execution_count": 7,
   "metadata": {
    "ExecuteTime": {
     "end_time": "2018-12-16T06:53:23.508600Z",
     "start_time": "2018-12-16T06:53:23.499624Z"
    }
   },
   "outputs": [],
   "source": [
    "best_time = np.argmax(guards[guard_no][\"sleep_pattern\"])"
   ]
  },
  {
   "cell_type": "code",
   "execution_count": 8,
   "metadata": {
    "ExecuteTime": {
     "end_time": "2018-12-16T06:53:23.524558Z",
     "start_time": "2018-12-16T06:53:23.510594Z"
    },
    "scrolled": true
   },
   "outputs": [
    {
     "data": {
      "text/plain": [
       "63509"
      ]
     },
     "execution_count": 8,
     "metadata": {},
     "output_type": "execute_result"
    }
   ],
   "source": [
    "guard_no * best_time"
   ]
  },
  {
   "cell_type": "markdown",
   "metadata": {},
   "source": [
    "## Part 2"
   ]
  },
  {
   "cell_type": "code",
   "execution_count": 9,
   "metadata": {
    "ExecuteTime": {
     "end_time": "2018-12-16T06:53:23.532542Z",
     "start_time": "2018-12-16T06:53:23.526581Z"
    }
   },
   "outputs": [],
   "source": [
    "guard_no = max(guards, key=lambda x: max(guards[x][\"sleep_pattern\"]))"
   ]
  },
  {
   "cell_type": "code",
   "execution_count": 10,
   "metadata": {
    "ExecuteTime": {
     "end_time": "2018-12-16T06:53:23.541528Z",
     "start_time": "2018-12-16T06:53:23.534531Z"
    }
   },
   "outputs": [],
   "source": [
    "best_time = np.argmax(guards[guard_no][\"sleep_pattern\"])"
   ]
  },
  {
   "cell_type": "code",
   "execution_count": 11,
   "metadata": {
    "ExecuteTime": {
     "end_time": "2018-12-16T06:53:23.553482Z",
     "start_time": "2018-12-16T06:53:23.544504Z"
    }
   },
   "outputs": [
    {
     "data": {
      "text/plain": [
       "47910"
      ]
     },
     "execution_count": 11,
     "metadata": {},
     "output_type": "execute_result"
    }
   ],
   "source": [
    "guard_no * best_time"
   ]
  }
 ],
 "metadata": {
  "kernelspec": {
   "display_name": "Python 3",
   "language": "python",
   "name": "python3"
  },
  "language_info": {
   "codemirror_mode": {
    "name": "ipython",
    "version": 3
   },
   "file_extension": ".py",
   "mimetype": "text/x-python",
   "name": "python",
   "nbconvert_exporter": "python",
   "pygments_lexer": "ipython3",
   "version": "3.7.0"
  },
  "toc": {
   "base_numbering": 1,
   "nav_menu": {},
   "number_sections": true,
   "sideBar": true,
   "skip_h1_title": false,
   "title_cell": "Table of Contents",
   "title_sidebar": "Contents",
   "toc_cell": false,
   "toc_position": {},
   "toc_section_display": true,
   "toc_window_display": false
  },
  "varInspector": {
   "cols": {
    "lenName": 16,
    "lenType": 16,
    "lenVar": 40
   },
   "kernels_config": {
    "python": {
     "delete_cmd_postfix": "",
     "delete_cmd_prefix": "del ",
     "library": "var_list.py",
     "varRefreshCmd": "print(var_dic_list())"
    },
    "r": {
     "delete_cmd_postfix": ") ",
     "delete_cmd_prefix": "rm(",
     "library": "var_list.r",
     "varRefreshCmd": "cat(var_dic_list()) "
    }
   },
   "types_to_exclude": [
    "module",
    "function",
    "builtin_function_or_method",
    "instance",
    "_Feature"
   ],
   "window_display": true
  }
 },
 "nbformat": 4,
 "nbformat_minor": 2
}
