{
 "cells": [
  {
   "cell_type": "markdown",
   "metadata": {},
   "source": [
    "https://adventofcode.com/2018/day/2"
   ]
  },
  {
   "cell_type": "code",
   "execution_count": 1,
   "metadata": {
    "ExecuteTime": {
     "end_time": "2018-12-16T05:19:30.519078Z",
     "start_time": "2018-12-16T05:19:30.422201Z"
    }
   },
   "outputs": [],
   "source": [
    "import numpy as np\n",
    "from collections import Counter"
   ]
  },
  {
   "cell_type": "code",
   "execution_count": 2,
   "metadata": {
    "ExecuteTime": {
     "end_time": "2018-12-16T05:19:30.525924Z",
     "start_time": "2018-12-16T05:19:30.520936Z"
    },
    "code_folding": []
   },
   "outputs": [],
   "source": [
    "with open(\"day2_input.txt\") as file:\n",
    "    puzzle_input = file.read().splitlines()"
   ]
  },
  {
   "cell_type": "markdown",
   "metadata": {},
   "source": [
    "### Part 1"
   ]
  },
  {
   "cell_type": "code",
   "execution_count": 3,
   "metadata": {
    "ExecuteTime": {
     "end_time": "2018-12-16T05:19:30.534906Z",
     "start_time": "2018-12-16T05:19:30.528920Z"
    }
   },
   "outputs": [],
   "source": [
    "count_2 = 0\n",
    "count_3 = 0"
   ]
  },
  {
   "cell_type": "code",
   "execution_count": 4,
   "metadata": {
    "ExecuteTime": {
     "end_time": "2018-12-16T05:19:30.557972Z",
     "start_time": "2018-12-16T05:19:30.537891Z"
    }
   },
   "outputs": [],
   "source": [
    "for i in puzzle_input:\n",
    "    counter = Counter(i)\n",
    "    counter_values = set(counter.values())\n",
    "    if 2 in counter_values:\n",
    "        count_2 += 1\n",
    "    if 3 in counter_values:\n",
    "        count_3 += 1\n",
    "    if counter_values - set([1, 2, 3]):\n",
    "        print(counter_values)"
   ]
  },
  {
   "cell_type": "code",
   "execution_count": 5,
   "metadata": {
    "ExecuteTime": {
     "end_time": "2018-12-16T05:19:30.595737Z",
     "start_time": "2018-12-16T05:19:30.559832Z"
    }
   },
   "outputs": [
    {
     "data": {
      "text/plain": [
       "7776"
      ]
     },
     "execution_count": 5,
     "metadata": {},
     "output_type": "execute_result"
    }
   ],
   "source": [
    "count_2 * count_3"
   ]
  },
  {
   "cell_type": "markdown",
   "metadata": {},
   "source": [
    "### Part 2"
   ]
  },
  {
   "cell_type": "code",
   "execution_count": 6,
   "metadata": {
    "ExecuteTime": {
     "end_time": "2018-12-16T05:19:30.623783Z",
     "start_time": "2018-12-16T05:19:30.597730Z"
    }
   },
   "outputs": [],
   "source": [
    "small_puzzle_input = [\"abcde\", \"fghij\", \"klmno\", \"pqrst\", \"fguij\", \"axcye\", \"wvxyz\"]"
   ]
  },
  {
   "cell_type": "code",
   "execution_count": 7,
   "metadata": {
    "ExecuteTime": {
     "end_time": "2018-12-16T05:19:30.654590Z",
     "start_time": "2018-12-16T05:19:30.624659Z"
    }
   },
   "outputs": [],
   "source": [
    "letter_matrix = puzzle_input\n",
    "number_matrix = np.array([[ord(char) for char in i] for i in letter_matrix])"
   ]
  },
  {
   "cell_type": "code",
   "execution_count": 8,
   "metadata": {
    "ExecuteTime": {
     "end_time": "2018-12-16T05:19:30.705485Z",
     "start_time": "2018-12-16T05:19:30.656573Z"
    }
   },
   "outputs": [
    {
     "name": "stdout",
     "output_type": "stream",
     "text": [
      "wlki gsqyfecjqqmnxaktdrhbz\n",
      "wlkiogsqyfecjqqmnxaktdrhbz\n",
      "wlkiwgsqyfecjqqmnxaktdrhbz\n"
     ]
    }
   ],
   "source": [
    "for i in range(len(letter_matrix)):\n",
    "    diff_matrix = number_matrix[i + 1 :] - number_matrix[i]\n",
    "\n",
    "    non_zero_coord = np.ndarray.nonzero(diff_matrix)\n",
    "\n",
    "    nz_row = non_zero_coord[0]\n",
    "    nz_col = non_zero_coord[1]\n",
    "\n",
    "    nz_row_num, nz_freq = np.unique(nz_row, return_counts=True)\n",
    "\n",
    "    if 1 in nz_freq:\n",
    "        row = nz_row_num[nz_freq == 1][0]\n",
    "        col = nz_col[nz_row == row][0]\n",
    "\n",
    "        string_1 = letter_matrix[i]\n",
    "        same_1 = string_1[:col] + \" \" + string_1[col + 1 :]\n",
    "\n",
    "        string_2 = letter_matrix[i + 1 + row]\n",
    "        same_2 = string_2[:col] + \" \" + string_2[col + 1 :]\n",
    "\n",
    "        if same_1 == same_2:\n",
    "            print(same_1)\n",
    "            print(string_1)\n",
    "            print(string_2)\n",
    "        else:\n",
    "            print(\"Huh?\")\n",
    "            print(same_1)\n",
    "            print(same_2)\n",
    "            print(string_1)\n",
    "            print(string_2)\n",
    "    else:\n",
    "        pass"
   ]
  }
 ],
 "metadata": {
  "kernelspec": {
   "display_name": "Python 3",
   "language": "python",
   "name": "python3"
  },
  "language_info": {
   "codemirror_mode": {
    "name": "ipython",
    "version": 3
   },
   "file_extension": ".py",
   "mimetype": "text/x-python",
   "name": "python",
   "nbconvert_exporter": "python",
   "pygments_lexer": "ipython3",
   "version": "3.7.0"
  },
  "toc": {
   "base_numbering": 1,
   "nav_menu": {},
   "number_sections": true,
   "sideBar": true,
   "skip_h1_title": false,
   "title_cell": "Table of Contents",
   "title_sidebar": "Contents",
   "toc_cell": false,
   "toc_position": {},
   "toc_section_display": true,
   "toc_window_display": false
  },
  "varInspector": {
   "cols": {
    "lenName": 16,
    "lenType": 16,
    "lenVar": 40
   },
   "kernels_config": {
    "python": {
     "delete_cmd_postfix": "",
     "delete_cmd_prefix": "del ",
     "library": "var_list.py",
     "varRefreshCmd": "print(var_dic_list())"
    },
    "r": {
     "delete_cmd_postfix": ") ",
     "delete_cmd_prefix": "rm(",
     "library": "var_list.r",
     "varRefreshCmd": "cat(var_dic_list()) "
    }
   },
   "oldHeight": 122,
   "position": {
    "height": "40px",
    "left": "754px",
    "right": "20px",
    "top": "120px",
    "width": "250px"
   },
   "types_to_exclude": [
    "module",
    "function",
    "builtin_function_or_method",
    "instance",
    "_Feature"
   ],
   "varInspector_section_display": "none",
   "window_display": true
  }
 },
 "nbformat": 4,
 "nbformat_minor": 2
}
