{
 "cells": [
  {
   "cell_type": "markdown",
   "metadata": {},
   "source": [
    "https://adventofcode.com/2018/day/3"
   ]
  },
  {
   "cell_type": "code",
   "execution_count": 1,
   "metadata": {
    "ExecuteTime": {
     "end_time": "2018-12-16T05:39:09.168317Z",
     "start_time": "2018-12-16T05:39:08.736467Z"
    }
   },
   "outputs": [],
   "source": [
    "import numpy as np\n",
    "import pandas as pd"
   ]
  },
  {
   "cell_type": "code",
   "execution_count": 2,
   "metadata": {
    "ExecuteTime": {
     "end_time": "2018-12-16T05:39:09.199368Z",
     "start_time": "2018-12-16T05:39:09.170306Z"
    }
   },
   "outputs": [],
   "source": [
    "puzzle_input = pd.read_csv(\"day3_input.txt\", header=None, sep=\"\\W+|x\", engine=\"python\")\n",
    "puzzle_input.columns = [\"drop\", \"id\", \"x\", \"y\", \"x_length\", \"y_length\"]\n",
    "puzzle_input.drop(labels=\"drop\", axis=1, inplace=True)"
   ]
  },
  {
   "cell_type": "code",
   "execution_count": 3,
   "metadata": {
    "ExecuteTime": {
     "end_time": "2018-12-16T05:39:09.204221Z",
     "start_time": "2018-12-16T05:39:09.201223Z"
    }
   },
   "outputs": [],
   "source": [
    "def selected_area(x, y, x_length, y_length):\n",
    "    fabric = np.zeros((1000, 1000))\n",
    "    fabric[y : (y + y_length), x : (x + x_length)] += 1\n",
    "    return fabric"
   ]
  },
  {
   "cell_type": "code",
   "execution_count": 4,
   "metadata": {
    "ExecuteTime": {
     "end_time": "2018-12-16T05:39:12.426719Z",
     "start_time": "2018-12-16T05:39:09.206210Z"
    }
   },
   "outputs": [],
   "source": [
    "all_claim = np.zeros((1000, 1000))\n",
    "for i in puzzle_input.itertuples():\n",
    "    all_claim += selected_area(i.x, i.y, i.x_length, i.y_length)"
   ]
  },
  {
   "cell_type": "markdown",
   "metadata": {},
   "source": [
    "## Part 1"
   ]
  },
  {
   "cell_type": "code",
   "execution_count": 5,
   "metadata": {
    "ExecuteTime": {
     "end_time": "2018-12-16T05:39:12.440682Z",
     "start_time": "2018-12-16T05:39:12.427716Z"
    }
   },
   "outputs": [
    {
     "data": {
      "text/plain": [
       "96569"
      ]
     },
     "execution_count": 5,
     "metadata": {},
     "output_type": "execute_result"
    }
   ],
   "source": [
    "np.count_nonzero(all_claim >= 2)"
   ]
  },
  {
   "cell_type": "markdown",
   "metadata": {},
   "source": [
    "## Part 2"
   ]
  },
  {
   "cell_type": "code",
   "execution_count": 6,
   "metadata": {
    "ExecuteTime": {
     "end_time": "2018-12-16T05:39:24.622108Z",
     "start_time": "2018-12-16T05:39:12.443675Z"
    }
   },
   "outputs": [],
   "source": [
    "one_claim_area = all_claim == 1\n",
    "is_not_overlapped_mask = []\n",
    "for i in puzzle_input.itertuples():\n",
    "    area = selected_area(i.x, i.y, i.x_length, i.y_length)\n",
    "    completely_inside_one_claim = np.count_nonzero((area - one_claim_area) == 1) == 0\n",
    "    is_not_overlapped_mask.append(completely_inside_one_claim)"
   ]
  },
  {
   "cell_type": "code",
   "execution_count": 7,
   "metadata": {
    "ExecuteTime": {
     "end_time": "2018-12-16T05:39:24.634077Z",
     "start_time": "2018-12-16T05:39:24.624103Z"
    }
   },
   "outputs": [
    {
     "data": {
      "text/html": [
       "<div>\n",
       "<style scoped>\n",
       "    .dataframe tbody tr th:only-of-type {\n",
       "        vertical-align: middle;\n",
       "    }\n",
       "\n",
       "    .dataframe tbody tr th {\n",
       "        vertical-align: top;\n",
       "    }\n",
       "\n",
       "    .dataframe thead th {\n",
       "        text-align: right;\n",
       "    }\n",
       "</style>\n",
       "<table border=\"1\" class=\"dataframe\">\n",
       "  <thead>\n",
       "    <tr style=\"text-align: right;\">\n",
       "      <th></th>\n",
       "      <th>id</th>\n",
       "    </tr>\n",
       "  </thead>\n",
       "  <tbody>\n",
       "    <tr>\n",
       "      <th>1022</th>\n",
       "      <td>1023</td>\n",
       "    </tr>\n",
       "  </tbody>\n",
       "</table>\n",
       "</div>"
      ],
      "text/plain": [
       "        id\n",
       "1022  1023"
      ]
     },
     "execution_count": 7,
     "metadata": {},
     "output_type": "execute_result"
    }
   ],
   "source": [
    "puzzle_input[[\"id\"]][is_not_overlapped_mask]"
   ]
  }
 ],
 "metadata": {
  "kernelspec": {
   "display_name": "Python 3",
   "language": "python",
   "name": "python3"
  },
  "language_info": {
   "codemirror_mode": {
    "name": "ipython",
    "version": 3
   },
   "file_extension": ".py",
   "mimetype": "text/x-python",
   "name": "python",
   "nbconvert_exporter": "python",
   "pygments_lexer": "ipython3",
   "version": "3.7.0"
  },
  "toc": {
   "base_numbering": 1,
   "nav_menu": {},
   "number_sections": true,
   "sideBar": true,
   "skip_h1_title": false,
   "title_cell": "Table of Contents",
   "title_sidebar": "Contents",
   "toc_cell": false,
   "toc_position": {},
   "toc_section_display": true,
   "toc_window_display": false
  },
  "varInspector": {
   "cols": {
    "lenName": 16,
    "lenType": 16,
    "lenVar": 40
   },
   "kernels_config": {
    "python": {
     "delete_cmd_postfix": "",
     "delete_cmd_prefix": "del ",
     "library": "var_list.py",
     "varRefreshCmd": "print(var_dic_list())"
    },
    "r": {
     "delete_cmd_postfix": ") ",
     "delete_cmd_prefix": "rm(",
     "library": "var_list.r",
     "varRefreshCmd": "cat(var_dic_list()) "
    }
   },
   "types_to_exclude": [
    "module",
    "function",
    "builtin_function_or_method",
    "instance",
    "_Feature"
   ],
   "window_display": true
  }
 },
 "nbformat": 4,
 "nbformat_minor": 2
}
