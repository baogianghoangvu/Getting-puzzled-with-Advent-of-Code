{
 "cells": [
  {
   "cell_type": "code",
   "execution_count": 2,
   "id": "9c835ad1-a5d8-46c7-b3b9-a240c3d9cf18",
   "metadata": {
    "execution": {
     "iopub.execute_input": "2024-09-13T08:20:02.525548Z",
     "iopub.status.busy": "2024-09-13T08:20:02.524532Z",
     "iopub.status.idle": "2024-09-13T08:20:02.533916Z",
     "shell.execute_reply": "2024-09-13T08:20:02.532158Z",
     "shell.execute_reply.started": "2024-09-13T08:20:02.525548Z"
    }
   },
   "outputs": [],
   "source": [
    "import string\n",
    "from pathlib import Path"
   ]
  },
  {
   "cell_type": "code",
   "execution_count": 3,
   "id": "b75fdcc5-eb6b-4e22-9d80-90f5fe33d4ae",
   "metadata": {
    "execution": {
     "iopub.execute_input": "2024-09-13T08:20:02.537331Z",
     "iopub.status.busy": "2024-09-13T08:20:02.537331Z",
     "iopub.status.idle": "2024-09-13T08:20:02.581985Z",
     "shell.execute_reply": "2024-09-13T08:20:02.580972Z",
     "shell.execute_reply.started": "2024-09-13T08:20:02.537331Z"
    }
   },
   "outputs": [],
   "source": [
    "puzz = Path(\"./day4.txt\").read_text().splitlines()"
   ]
  },
  {
   "cell_type": "code",
   "execution_count": 17,
   "id": "1bd0f8c4-bafa-44d0-bd4d-419fb4d9d9a5",
   "metadata": {
    "execution": {
     "iopub.execute_input": "2024-09-13T08:29:23.982990Z",
     "iopub.status.busy": "2024-09-13T08:29:23.982427Z",
     "iopub.status.idle": "2024-09-13T08:29:23.999525Z",
     "shell.execute_reply": "2024-09-13T08:29:23.999525Z",
     "shell.execute_reply.started": "2024-09-13T08:29:23.982990Z"
    }
   },
   "outputs": [
    {
     "data": {
      "text/plain": [
       "477"
      ]
     },
     "execution_count": 17,
     "metadata": {},
     "output_type": "execute_result"
    }
   ],
   "source": [
    "tot = 0\n",
    "for l in puzz:\n",
    "    le, ri = l.split(\",\")\n",
    "\n",
    "    lele, leri = [int(c) for c in le.split(\"-\")]\n",
    "    rile, riri = [int(c) for c in ri.split(\"-\")]\n",
    "\n",
    "    c1 = (lele <= rile) and (riri <= leri)\n",
    "    c2 = (lele >= rile) and (riri >= leri)\n",
    "    tot += c1 or c2\n",
    "tot"
   ]
  },
  {
   "cell_type": "code",
   "execution_count": 19,
   "id": "f85f6945-6c19-4345-9a38-ec416f4f1c38",
   "metadata": {
    "execution": {
     "iopub.execute_input": "2024-09-13T08:35:11.943101Z",
     "iopub.status.busy": "2024-09-13T08:35:11.942079Z",
     "iopub.status.idle": "2024-09-13T08:35:11.980755Z",
     "shell.execute_reply": "2024-09-13T08:35:11.977611Z",
     "shell.execute_reply.started": "2024-09-13T08:35:11.943101Z"
    }
   },
   "outputs": [
    {
     "data": {
      "text/plain": [
       "830"
      ]
     },
     "execution_count": 19,
     "metadata": {},
     "output_type": "execute_result"
    }
   ],
   "source": [
    "tot = 0\n",
    "for l in puzz:\n",
    "    le, ri = l.split(\",\")\n",
    "\n",
    "    lele, leri = [int(c) for c in le.split(\"-\")]\n",
    "    rile, riri = [int(c) for c in ri.split(\"-\")]\n",
    "\n",
    "    c1 = lele <= rile <= leri\n",
    "    c2 = rile <= lele <= riri\n",
    "    tot += c1 or c2\n",
    "tot"
   ]
  },
  {
   "cell_type": "code",
   "execution_count": 16,
   "id": "a256ab60-2307-4ed4-a9b7-c0f3b2ccc705",
   "metadata": {
    "execution": {
     "iopub.execute_input": "2024-09-13T08:28:55.993095Z",
     "iopub.status.busy": "2024-09-13T08:28:55.992553Z",
     "iopub.status.idle": "2024-09-13T08:28:55.999949Z",
     "shell.execute_reply": "2024-09-13T08:28:55.998712Z",
     "shell.execute_reply.started": "2024-09-13T08:28:55.993095Z"
    }
   },
   "outputs": [
    {
     "data": {
      "text/plain": [
       "True"
      ]
     },
     "execution_count": 16,
     "metadata": {},
     "output_type": "execute_result"
    }
   ],
   "source": [
    "\"66\" < \"7\""
   ]
  }
 ],
 "metadata": {
  "kernelspec": {
   "display_name": "bghv",
   "language": "python",
   "name": "bghv"
  },
  "language_info": {
   "codemirror_mode": {
    "name": "ipython",
    "version": 3
   },
   "file_extension": ".py",
   "mimetype": "text/x-python",
   "name": "python",
   "nbconvert_exporter": "python",
   "pygments_lexer": "ipython3",
   "version": "3.12.4"
  }
 },
 "nbformat": 4,
 "nbformat_minor": 5
}
