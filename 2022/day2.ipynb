{
 "cells": [
  {
   "cell_type": "code",
   "execution_count": 2,
   "id": "f52dd1a6-fcb9-4320-91d2-fcc54aa5212f",
   "metadata": {
    "execution": {
     "iopub.execute_input": "2024-09-13T07:32:29.172353Z",
     "iopub.status.busy": "2024-09-13T07:32:29.171744Z",
     "iopub.status.idle": "2024-09-13T07:32:29.182570Z",
     "shell.execute_reply": "2024-09-13T07:32:29.178563Z",
     "shell.execute_reply.started": "2024-09-13T07:32:29.172353Z"
    }
   },
   "outputs": [],
   "source": [
    "from pathlib import Path"
   ]
  },
  {
   "cell_type": "code",
   "execution_count": 3,
   "id": "b75fdcc5-eb6b-4e22-9d80-90f5fe33d4ae",
   "metadata": {
    "execution": {
     "iopub.execute_input": "2024-09-13T07:32:29.696369Z",
     "iopub.status.busy": "2024-09-13T07:32:29.695356Z",
     "iopub.status.idle": "2024-09-13T07:32:29.717883Z",
     "shell.execute_reply": "2024-09-13T07:32:29.716345Z",
     "shell.execute_reply.started": "2024-09-13T07:32:29.696369Z"
    }
   },
   "outputs": [],
   "source": [
    "puzz = Path(\"./day2.txt\").read_text().splitlines()"
   ]
  },
  {
   "cell_type": "code",
   "execution_count": 6,
   "id": "f00e7809-8c3f-4858-8aed-1a96d450e461",
   "metadata": {
    "execution": {
     "iopub.execute_input": "2024-09-13T07:38:39.816313Z",
     "iopub.status.busy": "2024-09-13T07:38:39.815314Z",
     "iopub.status.idle": "2024-09-13T07:38:39.825701Z",
     "shell.execute_reply": "2024-09-13T07:38:39.823969Z",
     "shell.execute_reply.started": "2024-09-13T07:38:39.815314Z"
    }
   },
   "outputs": [],
   "source": [
    "rps = {\n",
    "    \"A X\": 3,\n",
    "    \"B X\": 0,\n",
    "    \"C X\": 6,\n",
    "    \"A Y\": 6,\n",
    "    \"B Y\": 3,\n",
    "    \"C Y\": 0,\n",
    "    \"A Z\": 0,\n",
    "    \"B Z\": 6,\n",
    "    \"C Z\": 3,\n",
    "}\n",
    "\n",
    "score = {\"X\": 1, \"Y\": 2, \"Z\": 3}"
   ]
  },
  {
   "cell_type": "code",
   "execution_count": 9,
   "id": "750c6c63-1783-4adc-8d3c-1a1e5606a3dc",
   "metadata": {
    "execution": {
     "iopub.execute_input": "2024-09-13T07:39:28.646197Z",
     "iopub.status.busy": "2024-09-13T07:39:28.645179Z",
     "iopub.status.idle": "2024-09-13T07:39:28.661362Z",
     "shell.execute_reply": "2024-09-13T07:39:28.659605Z",
     "shell.execute_reply.started": "2024-09-13T07:39:28.645179Z"
    }
   },
   "outputs": [
    {
     "data": {
      "text/plain": [
       "14163"
      ]
     },
     "execution_count": 9,
     "metadata": {},
     "output_type": "execute_result"
    }
   ],
   "source": [
    "tot = 0\n",
    "for l in puzz:\n",
    "    tot += rps[l] + score[l[-1]]\n",
    "tot"
   ]
  },
  {
   "cell_type": "markdown",
   "id": "934a3e8c-80d9-4439-92b7-1cd43878fb45",
   "metadata": {},
   "source": [
    "Rock   A    Lo  X\n",
    "Pape   B    Dr  Y\n",
    "Scis   C    Wi  Z"
   ]
  },
  {
   "cell_type": "code",
   "execution_count": 29,
   "id": "708faf6b-120b-4ebb-9722-0822e5b223ea",
   "metadata": {
    "execution": {
     "iopub.execute_input": "2024-09-13T07:55:46.603443Z",
     "iopub.status.busy": "2024-09-13T07:55:46.602436Z",
     "iopub.status.idle": "2024-09-13T07:55:46.613561Z",
     "shell.execute_reply": "2024-09-13T07:55:46.612020Z",
     "shell.execute_reply.started": "2024-09-13T07:55:46.603443Z"
    }
   },
   "outputs": [],
   "source": [
    "rps = [\"C\", \"A\", \"B\", \"C\", \"A\"]\n",
    "\n",
    "d1 = dict(A=1, B=2, C=3)\n",
    "d2 = dict(X=-1, Y=0, Z=+1)\n",
    "d3 = dict(X=0, Y=3, Z=6)"
   ]
  },
  {
   "cell_type": "code",
   "execution_count": 25,
   "id": "259eccec-47d1-4fcf-8dc5-607d4d4b8525",
   "metadata": {
    "execution": {
     "iopub.execute_input": "2024-09-13T07:54:56.896372Z",
     "iopub.status.busy": "2024-09-13T07:54:56.896372Z",
     "iopub.status.idle": "2024-09-13T07:54:56.906583Z",
     "shell.execute_reply": "2024-09-13T07:54:56.905935Z",
     "shell.execute_reply.started": "2024-09-13T07:54:56.896372Z"
    }
   },
   "outputs": [
    {
     "data": {
      "text/plain": [
       "'A'"
      ]
     },
     "execution_count": 25,
     "metadata": {},
     "output_type": "execute_result"
    }
   ],
   "source": [
    "rps[d1[l] + d2[r]]"
   ]
  },
  {
   "cell_type": "code",
   "execution_count": 30,
   "id": "ac7e4a04-d47a-472e-9220-e4af63da4bcd",
   "metadata": {
    "execution": {
     "iopub.execute_input": "2024-09-13T07:55:48.860991Z",
     "iopub.status.busy": "2024-09-13T07:55:48.860991Z",
     "iopub.status.idle": "2024-09-13T07:55:48.881393Z",
     "shell.execute_reply": "2024-09-13T07:55:48.881393Z",
     "shell.execute_reply.started": "2024-09-13T07:55:48.860991Z"
    }
   },
   "outputs": [
    {
     "data": {
      "text/plain": [
       "12091"
      ]
     },
     "execution_count": 30,
     "metadata": {},
     "output_type": "execute_result"
    }
   ],
   "source": [
    "tot = 0\n",
    "for l, _, r in puzz:\n",
    "    tot += d3[r]\n",
    "    tot += d1[rps[d1[l] + d2[r]]]\n",
    "tot"
   ]
  },
  {
   "cell_type": "code",
   "execution_count": 21,
   "id": "1111627c-f668-4341-89a7-4ed508b10a3d",
   "metadata": {
    "execution": {
     "iopub.execute_input": "2024-09-13T07:51:46.188374Z",
     "iopub.status.busy": "2024-09-13T07:51:46.187377Z",
     "iopub.status.idle": "2024-09-13T07:51:46.196959Z",
     "shell.execute_reply": "2024-09-13T07:51:46.195949Z",
     "shell.execute_reply.started": "2024-09-13T07:51:46.188374Z"
    }
   },
   "outputs": [
    {
     "data": {
      "text/plain": [
       "('C', 'X')"
      ]
     },
     "execution_count": 21,
     "metadata": {},
     "output_type": "execute_result"
    }
   ],
   "source": [
    "l, r"
   ]
  },
  {
   "cell_type": "code",
   "execution_count": null,
   "id": "198ed58b-b4b4-4ec0-bef2-008d34d2bf0d",
   "metadata": {},
   "outputs": [],
   "source": []
  },
  {
   "cell_type": "code",
   "execution_count": 6,
   "id": "a61435c0-6f19-4a6f-a317-9493a3c8417b",
   "metadata": {
    "execution": {
     "iopub.execute_input": "2024-09-13T07:38:39.816313Z",
     "iopub.status.busy": "2024-09-13T07:38:39.815314Z",
     "iopub.status.idle": "2024-09-13T07:38:39.825701Z",
     "shell.execute_reply": "2024-09-13T07:38:39.823969Z",
     "shell.execute_reply.started": "2024-09-13T07:38:39.815314Z"
    }
   },
   "outputs": [],
   "source": [
    "rps = {\n",
    "    \"A X\": \"\",\n",
    "    \"B X\": \"\",\n",
    "    \"C X\": \"\",\n",
    "    \"A Y\": \"\",\n",
    "    \"B Y\": \"\",\n",
    "    \"C Y\": \"\",\n",
    "    \"A Z\": \"\",\n",
    "    \"B Z\": \"\",\n",
    "    \"C Z\": \"\",\n",
    "}\n",
    "\n",
    "score = {\"X\": 1, \"Y\": 2, \"Z\": 3}"
   ]
  },
  {
   "cell_type": "code",
   "execution_count": null,
   "id": "b27a036f-886b-4bbe-b310-cbaed8127f77",
   "metadata": {},
   "outputs": [],
   "source": []
  }
 ],
 "metadata": {
  "kernelspec": {
   "display_name": "bghv",
   "language": "python",
   "name": "bghv"
  },
  "language_info": {
   "codemirror_mode": {
    "name": "ipython",
    "version": 3
   },
   "file_extension": ".py",
   "mimetype": "text/x-python",
   "name": "python",
   "nbconvert_exporter": "python",
   "pygments_lexer": "ipython3",
   "version": "3.12.4"
  }
 },
 "nbformat": 4,
 "nbformat_minor": 5
}
