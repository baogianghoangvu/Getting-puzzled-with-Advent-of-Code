{
 "cells": [
  {
   "cell_type": "markdown",
   "id": "403530bc-d2d2-4b63-90f6-7c41c5f35027",
   "metadata": {},
   "source": [
    "# https://adventofcode.com/2022"
   ]
  },
  {
   "cell_type": "code",
   "execution_count": null,
   "id": "0b03984d-3bd9-4725-bc0a-5b714b8a013c",
   "metadata": {},
   "outputs": [],
   "source": [
    "import string\n",
    "from pathlib import Path"
   ]
  },
  {
   "cell_type": "code",
   "execution_count": null,
   "id": "0b4e07e8-4bec-4fa4-9f0e-1dee16c123ee",
   "metadata": {},
   "outputs": [],
   "source": [
    "puzz = Path(\"./day.txt\").read_text().splitlines()"
   ]
  }
 ],
 "metadata": {
  "kernelspec": {
   "display_name": "bghv",
   "language": "python",
   "name": "bghv"
  },
  "language_info": {
   "codemirror_mode": {
    "name": "ipython",
    "version": 3
   },
   "file_extension": ".py",
   "mimetype": "text/x-python",
   "name": "python",
   "nbconvert_exporter": "python",
   "pygments_lexer": "ipython3",
   "version": "3.12.4"
  }
 },
 "nbformat": 4,
 "nbformat_minor": 5
}
