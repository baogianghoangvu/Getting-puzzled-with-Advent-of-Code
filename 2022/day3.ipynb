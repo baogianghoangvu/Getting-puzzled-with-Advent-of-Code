{
 "cells": [
  {
   "cell_type": "code",
   "execution_count": null,
   "id": "9c835ad1-a5d8-46c7-b3b9-a240c3d9cf18",
   "metadata": {
    "execution": {
     "iopub.execute_input": "2024-09-13T08:07:11.973344Z",
     "iopub.status.busy": "2024-09-13T08:07:11.972345Z",
     "iopub.status.idle": "2024-09-13T08:07:11.982406Z",
     "shell.execute_reply": "2024-09-13T08:07:11.981396Z",
     "shell.execute_reply.started": "2024-09-13T08:07:11.973344Z"
    }
   },
   "outputs": [],
   "source": [
    "import string\n",
    "from pathlib import Path"
   ]
  },
  {
   "cell_type": "code",
   "execution_count": 2,
   "id": "b75fdcc5-eb6b-4e22-9d80-90f5fe33d4ae",
   "metadata": {
    "execution": {
     "iopub.execute_input": "2024-09-13T07:58:23.169042Z",
     "iopub.status.busy": "2024-09-13T07:58:23.168037Z",
     "iopub.status.idle": "2024-09-13T07:58:23.185535Z",
     "shell.execute_reply": "2024-09-13T07:58:23.184526Z",
     "shell.execute_reply.started": "2024-09-13T07:58:23.169042Z"
    }
   },
   "outputs": [],
   "source": [
    "puzz = Path(\"./day3.txt\").read_text().splitlines()"
   ]
  },
  {
   "cell_type": "code",
   "execution_count": 34,
   "id": "0db191a8-a581-4b4e-9cf3-09de9c445e86",
   "metadata": {
    "execution": {
     "iopub.execute_input": "2024-09-13T08:08:46.062662Z",
     "iopub.status.busy": "2024-09-13T08:08:46.060436Z",
     "iopub.status.idle": "2024-09-13T08:08:46.077482Z",
     "shell.execute_reply": "2024-09-13T08:08:46.076961Z",
     "shell.execute_reply.started": "2024-09-13T08:08:46.062662Z"
    }
   },
   "outputs": [
    {
     "data": {
      "text/plain": [
       "7553"
      ]
     },
     "execution_count": 34,
     "metadata": {},
     "output_type": "execute_result"
    }
   ],
   "source": [
    "tot = 0\n",
    "for l in puzz:\n",
    "\n",
    "    divider = len(l) // 2\n",
    "\n",
    "    c1 = set(l[:divider])\n",
    "    c2 = set(l[divider:])\n",
    "\n",
    "    common = c1 & c2\n",
    "    for c in common:\n",
    "        tot += string.ascii_letters.index(c) + 1\n",
    "\n",
    "tot"
   ]
  },
  {
   "cell_type": "code",
   "execution_count": 43,
   "id": "8d44099f-86d8-4406-a319-52e95deff8b6",
   "metadata": {
    "execution": {
     "iopub.execute_input": "2024-09-13T08:17:27.413804Z",
     "iopub.status.busy": "2024-09-13T08:17:27.412783Z",
     "iopub.status.idle": "2024-09-13T08:17:27.426290Z",
     "shell.execute_reply": "2024-09-13T08:17:27.425269Z",
     "shell.execute_reply.started": "2024-09-13T08:17:27.413804Z"
    }
   },
   "outputs": [
    {
     "data": {
      "text/plain": [
       "2758"
      ]
     },
     "execution_count": 43,
     "metadata": {},
     "output_type": "execute_result"
    }
   ],
   "source": [
    "tot = 0\n",
    "tempset = set(string.ascii_letters)\n",
    "for i, l in enumerate(puzz):\n",
    "    tempset &= set(l)\n",
    "    if i % 3 == 2:\n",
    "        for c in tempset:\n",
    "            tot += string.ascii_letters.index(c) + 1\n",
    "        tempset = set(string.ascii_letters)\n",
    "\n",
    "tot"
   ]
  },
  {
   "cell_type": "code",
   "execution_count": null,
   "id": "1bd0f8c4-bafa-44d0-bd4d-419fb4d9d9a5",
   "metadata": {},
   "outputs": [],
   "source": []
  }
 ],
 "metadata": {
  "kernelspec": {
   "display_name": "bghv",
   "language": "python",
   "name": "bghv"
  },
  "language_info": {
   "codemirror_mode": {
    "name": "ipython",
    "version": 3
   },
   "file_extension": ".py",
   "mimetype": "text/x-python",
   "name": "python",
   "nbconvert_exporter": "python",
   "pygments_lexer": "ipython3",
   "version": "3.12.4"
  }
 },
 "nbformat": 4,
 "nbformat_minor": 5
}
