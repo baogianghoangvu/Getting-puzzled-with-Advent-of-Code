{
 "cells": [
  {
   "cell_type": "code",
   "execution_count": 1,
   "id": "f52dd1a6-fcb9-4320-91d2-fcc54aa5212f",
   "metadata": {
    "execution": {
     "iopub.execute_input": "2024-09-13T07:23:24.543206Z",
     "iopub.status.busy": "2024-09-13T07:23:24.543206Z",
     "iopub.status.idle": "2024-09-13T07:23:24.555981Z",
     "shell.execute_reply": "2024-09-13T07:23:24.553459Z",
     "shell.execute_reply.started": "2024-09-13T07:23:24.543206Z"
    }
   },
   "outputs": [],
   "source": [
    "from pathlib import Path"
   ]
  },
  {
   "cell_type": "code",
   "execution_count": 7,
   "id": "b75fdcc5-eb6b-4e22-9d80-90f5fe33d4ae",
   "metadata": {
    "execution": {
     "iopub.execute_input": "2024-09-13T07:24:43.556012Z",
     "iopub.status.busy": "2024-09-13T07:24:43.556012Z",
     "iopub.status.idle": "2024-09-13T07:24:43.562833Z",
     "shell.execute_reply": "2024-09-13T07:24:43.561894Z",
     "shell.execute_reply.started": "2024-09-13T07:24:43.556012Z"
    }
   },
   "outputs": [],
   "source": [
    "puzz = Path(\"./day1.txt\").read_text().splitlines()"
   ]
  },
  {
   "cell_type": "code",
   "execution_count": 12,
   "id": "c050bed6-1cdd-4bae-9b14-1db15eb00df3",
   "metadata": {
    "execution": {
     "iopub.execute_input": "2024-09-13T07:27:49.794985Z",
     "iopub.status.busy": "2024-09-13T07:27:49.793974Z",
     "iopub.status.idle": "2024-09-13T07:27:49.804649Z",
     "shell.execute_reply": "2024-09-13T07:27:49.804120Z",
     "shell.execute_reply.started": "2024-09-13T07:27:49.794985Z"
    }
   },
   "outputs": [],
   "source": [
    "\n",
    "cals = []\n",
    "cal = 0\n",
    "for l in puzz:\n",
    "    if l == '':\n",
    "        cals.append(cal)\n",
    "        cal = 0\n",
    "    else:\n",
    "        cal += int(l)"
   ]
  },
  {
   "cell_type": "code",
   "execution_count": 14,
   "id": "9c7870dc-8ea6-49f8-bcd9-f803628e1e8f",
   "metadata": {
    "execution": {
     "iopub.execute_input": "2024-09-13T07:27:56.038014Z",
     "iopub.status.busy": "2024-09-13T07:27:56.037288Z",
     "iopub.status.idle": "2024-09-13T07:27:56.053497Z",
     "shell.execute_reply": "2024-09-13T07:27:56.051918Z",
     "shell.execute_reply.started": "2024-09-13T07:27:56.038014Z"
    }
   },
   "outputs": [
    {
     "data": {
      "text/plain": [
       "69528"
      ]
     },
     "execution_count": 14,
     "metadata": {},
     "output_type": "execute_result"
    }
   ],
   "source": [
    "max(cals)"
   ]
  },
  {
   "cell_type": "code",
   "execution_count": 17,
   "id": "a4434650-03bd-4c36-8b5e-ea05f73f995d",
   "metadata": {
    "execution": {
     "iopub.execute_input": "2024-09-13T07:28:49.996200Z",
     "iopub.status.busy": "2024-09-13T07:28:49.994868Z",
     "iopub.status.idle": "2024-09-13T07:28:50.008199Z",
     "shell.execute_reply": "2024-09-13T07:28:50.006613Z",
     "shell.execute_reply.started": "2024-09-13T07:28:49.996200Z"
    }
   },
   "outputs": [
    {
     "data": {
      "text/plain": [
       "206152"
      ]
     },
     "execution_count": 17,
     "metadata": {},
     "output_type": "execute_result"
    }
   ],
   "source": [
    "sum(sorted(cals)[-3:])"
   ]
  }
 ],
 "metadata": {
  "kernelspec": {
   "display_name": "bghv",
   "language": "python",
   "name": "bghv"
  },
  "language_info": {
   "codemirror_mode": {
    "name": "ipython",
    "version": 3
   },
   "file_extension": ".py",
   "mimetype": "text/x-python",
   "name": "python",
   "nbconvert_exporter": "python",
   "pygments_lexer": "ipython3",
   "version": "3.12.4"
  }
 },
 "nbformat": 4,
 "nbformat_minor": 5
}
